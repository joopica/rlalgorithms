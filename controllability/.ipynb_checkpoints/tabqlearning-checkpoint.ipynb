{
 "cells": [
  {
   "cell_type": "markdown",
   "metadata": {},
   "source": [
    "* Sample Agent Environment Interface \n",
    "\n",
    "    - Environment has been modified from FrozenLake to create a 18*18 grid world with 4 determinstic actions\n",
    "    - Moreover the slippery nature of some states has been made non slippery to ensure the environment has no stochasticity\n",
    "    "
   ]
  },
  {
   "cell_type": "code",
   "execution_count": 4,
   "metadata": {},
   "outputs": [
    {
     "ename": "SyntaxError",
     "evalue": "invalid syntax (<ipython-input-4-2000879ac583>, line 2)",
     "output_type": "error",
     "traceback": [
      "\u001b[0;36m  File \u001b[0;32m\"<ipython-input-4-2000879ac583>\"\u001b[0;36m, line \u001b[0;32m2\u001b[0m\n\u001b[0;31m    import ../gym\u001b[0m\n\u001b[0m           ^\u001b[0m\n\u001b[0;31mSyntaxError\u001b[0m\u001b[0;31m:\u001b[0m invalid syntax\n"
     ]
    }
   ],
   "source": [
    "import numpy as np\n",
    "import gym\n",
    "\n",
    "env = gym.make('FrozenLakeNotSlippery18x18-v0')\n",
    "#env = gym.make('FrozenLakeNotSlippery-v1')\n",
    "#env = gym.make('FrozenLake-v0')\n",
    "#env = gym.make('FrozenLake8x8-v0')\n",
    "for i_episode in range(2):\n",
    "    observation = env.reset()\n",
    "    for t in range(10):\n",
    "        env.render()\n",
    "        print(observation)\n",
    "        action = env.action_space.sample()\n",
    "        observation, reward, done, info = env.step(action)\n",
    "        if done:\n",
    "            print(\"Episode finished after {} timesteps\".format(t+1))\n",
    "            break"
   ]
  },
  {
   "cell_type": "markdown",
   "metadata": {},
   "source": [
    "* Epsilon Greedy Function \n",
    "\n",
    "    - Chooses a greedy action most of the time but with a probability eps chooses a random action\n",
    "    - Chooses random action with probability of eps; argmax Q(s, .) with probability of (1-eps)"
   ]
  },
  {
   "cell_type": "code",
   "execution_count": 3,
   "metadata": {
    "collapsed": true
   },
   "outputs": [],
   "source": [
    "def eps_greedy(q_vals, eps, state):\n",
    "    \"\"\"\n",
    "    Inputs:\n",
    "        q_vals: q value tables\n",
    "        eps: epsilon\n",
    "        state: current state\n",
    "    Outputs:\n",
    "        random action with probability of eps; argmax Q(s, .) with probability of (1-eps)\n",
    "    \"\"\"\n",
    "    import random\n",
    "    if random.random() <= eps:\n",
    "        action = env.action_space.sample() # sample an action randomly # sample an action randomly\n",
    "    else:\n",
    "        action = np.argmax(q_vals[state,:])\n",
    "    return action"
   ]
  },
  {
   "cell_type": "markdown",
   "metadata": {},
   "source": [
    "* Q learning update function. After we observe a transition $s, a, s', r$,\n",
    "     \n",
    "     $$\\textrm{target}(s') = R(s,a,s') + \\gamma \\max_{a'} Q_{\\theta_k}(s',a')$$\n",
    "     $$\\textrm{delta}(s') = \\textrm{target}(s') - Q_{\\theta_k}(s',a')\n",
    "     $$$$Q_{k+1}(s,a) \\leftarrow Q_k(s,a) + \\alpha * \\left( \\textrm{delta}(s') \\right)$$\n"
   ]
  },
  {
   "cell_type": "code",
   "execution_count": 4,
   "metadata": {
    "collapsed": true
   },
   "outputs": [],
   "source": [
    "def q_learning_update(gamma, alpha, q_vals, cur_state, action, next_state, reward):\n",
    "    \"\"\"\n",
    "    Inputs:\n",
    "        gamma: discount factor\n",
    "        alpha: learning rate\n",
    "        q_vals: q value table\n",
    "        cur_state: current state\n",
    "        action: action taken in current state\n",
    "        next_state: next state results from taking `action` in `cur_state`\n",
    "        reward: reward received from this transition\n",
    "    \n",
    "    Performs in-place update of q_vals table to implement one step of Q-learning\n",
    "    \"\"\"\n",
    "    delta = reward + gamma * np.max(q_vals[next_state,:]) - q_vals[cur_state,action]\n",
    "    q_vals[cur_state,action] = q_vals[cur_state,action] + alpha * delta"
   ]
  },
  {
   "cell_type": "markdown",
   "metadata": {},
   "source": [
    "* Tabular Q Learning "
   ]
  },
  {
   "cell_type": "code",
   "execution_count": 1,
   "metadata": {
    "scrolled": true
   },
   "outputs": [
    {
     "ename": "NameError",
     "evalue": "name 'gym' is not defined",
     "output_type": "error",
     "traceback": [
      "\u001b[0;31m---------------------------------------------------------------------------\u001b[0m",
      "\u001b[0;31mNameError\u001b[0m                                 Traceback (most recent call last)",
      "\u001b[0;32m<ipython-input-1-c003ec35dbf8>\u001b[0m in \u001b[0;36m<module>\u001b[0;34m()\u001b[0m\n\u001b[0;32m----> 1\u001b[0;31m \u001b[0menv\u001b[0m \u001b[0;34m=\u001b[0m \u001b[0mgym\u001b[0m\u001b[0;34m.\u001b[0m\u001b[0mmake\u001b[0m\u001b[0;34m(\u001b[0m\u001b[0;34m'FrozenLake-v0'\u001b[0m\u001b[0;34m)\u001b[0m\u001b[0;34m\u001b[0m\u001b[0m\n\u001b[0m\u001b[1;32m      2\u001b[0m \u001b[0;31m#env = gym.make('FrozenLakeNotSlippery18x18-v0')\u001b[0m\u001b[0;34m\u001b[0m\u001b[0;34m\u001b[0m\u001b[0m\n\u001b[1;32m      3\u001b[0m \u001b[0;34m\u001b[0m\u001b[0m\n\u001b[1;32m      4\u001b[0m \u001b[0mQ\u001b[0m \u001b[0;34m=\u001b[0m \u001b[0mnp\u001b[0m\u001b[0;34m.\u001b[0m\u001b[0mzeros\u001b[0m\u001b[0;34m(\u001b[0m\u001b[0;34m[\u001b[0m\u001b[0menv\u001b[0m\u001b[0;34m.\u001b[0m\u001b[0mobservation_space\u001b[0m\u001b[0;34m.\u001b[0m\u001b[0mn\u001b[0m\u001b[0;34m,\u001b[0m\u001b[0menv\u001b[0m\u001b[0;34m.\u001b[0m\u001b[0maction_space\u001b[0m\u001b[0;34m.\u001b[0m\u001b[0mn\u001b[0m\u001b[0;34m]\u001b[0m\u001b[0;34m)\u001b[0m\u001b[0;34m\u001b[0m\u001b[0m\n\u001b[1;32m      5\u001b[0m \u001b[0mgamma\u001b[0m \u001b[0;34m=\u001b[0m \u001b[0;36m0.95\u001b[0m\u001b[0;34m\u001b[0m\u001b[0m\n",
      "\u001b[0;31mNameError\u001b[0m: name 'gym' is not defined"
     ]
    }
   ],
   "source": [
    "env = gym.make('FrozenLake-v0')\n",
    "#env = gym.make('FrozenLakeNotSlippery18x18-v0')\n",
    "\n",
    "Q = np.zeros([env.observation_space.n,env.action_space.n])\n",
    "gamma = 0.95\n",
    "alpha = 0.8\n",
    "epsilon = 0.1\n",
    "episodes_num = 200000\n",
    "rList = []\n",
    "for itr in range(episodes_num):\n",
    "    cur_state = env.reset()\n",
    "    ret = 0\n",
    "    done = False\n",
    "    while not done:\n",
    "        #action = eps_greedy(Q, epsilon, cur_state)\n",
    "        #print(action)\n",
    "        action = np.argmax(Q[cur_state,:] + np.random.randn(1,env.action_space.n)*(1./(itr+1)))\n",
    "        next_state, reward, done, info = env.step(action)\n",
    "        q_learning_update(gamma, alpha, Q, cur_state, action, next_state, reward)\n",
    "        #Q[cur_state,action] = Q[cur_state,action] + alpha*(reward + gamma*np.max(Q[next_state,:]) - Q[cur_state,action])\n",
    "        cur_state = next_state\n",
    "        ret+=reward\n",
    "    rList.append(ret)\n",
    "    #epsilon = max(epsilon-0.002,0.1)\n",
    "print (\"Score over time: \" +  str(sum(rList)/episodes_num))\n",
    "print(\"Q-values: %s\" %Q)"
   ]
  },
  {
   "cell_type": "code",
   "execution_count": null,
   "metadata": {
    "collapsed": true
   },
   "outputs": [],
   "source": []
  }
 ],
 "metadata": {
  "kernelspec": {
   "display_name": "Python 3",
   "language": "python",
   "name": "python3"
  },
  "language_info": {
   "codemirror_mode": {
    "name": "ipython",
    "version": 3
   },
   "file_extension": ".py",
   "mimetype": "text/x-python",
   "name": "python",
   "nbconvert_exporter": "python",
   "pygments_lexer": "ipython3",
   "version": "3.6.2"
  }
 },
 "nbformat": 4,
 "nbformat_minor": 2
}
